{
  "cells": [
    {
      "cell_type": "markdown",
      "metadata": {
        "id": "view-in-github",
        "colab_type": "text"
      },
      "source": [
        "<a href=\"https://colab.research.google.com/github/liberix/NMA2022/blob/main/tutorials/W1D4_DimensionalityReduction/W1D4_Tutorial1.ipynb\" target=\"_parent\"><img src=\"https://colab.research.google.com/assets/colab-badge.svg\" alt=\"Open In Colab\"/></a>"
      ]
    },
    {
      "cell_type": "markdown",
      "metadata": {
        "execution": {},
        "id": "s9s-sWbwFl_O"
      },
      "source": [
        "# Tutorial 1: Geometric view of data\n",
        "\n",
        "**Week 1, Day 4: Dimensionality Reduction**\n",
        "\n",
        "**By Neuromatch Academy**\n",
        "\n",
        "__Content creators:__ Alex Cayco Gajic, John Murray\n",
        "\n",
        "__Content reviewers:__ Roozbeh Farhoudi, Matt Krause, Spiros Chavlis, Richard Gao, Michael Waskom, Siddharth Suresh, Natalie Schaworonkow, Ella Batty"
      ]
    },
    {
      "cell_type": "markdown",
      "metadata": {
        "execution": {},
        "id": "qbpL2p83Fl_P"
      },
      "source": [
        "<p align='center'><img src='https://github.com/NeuromatchAcademy/widgets/blob/master/sponsors.png?raw=True'/></p>"
      ]
    },
    {
      "cell_type": "markdown",
      "metadata": {
        "execution": {},
        "id": "D19CmGWMFl_Q"
      },
      "source": [
        "---\n",
        "# Tutorial Objectives\n",
        "\n",
        "*Estimated timing of tutorial: 50 minutes*\n",
        "\n",
        "In this notebook we'll explore how multivariate data can be represented in different orthonormal bases. This will help us build intuition that will be helpful in understanding PCA in the following tutorial. \n",
        "\n",
        "Overview:\n",
        " - Generate correlated multivariate data.\n",
        " - Define an arbitrary orthonormal basis. \n",
        " - Project the data onto the new basis."
      ]
    },
    {
      "cell_type": "code",
      "execution_count": 1,
      "metadata": {
        "execution": {},
        "id": "HpwsxwjlFl_Q",
        "colab": {
          "base_uri": "https://localhost:8080/",
          "height": 522
        },
        "outputId": "8e74cdc5-bf50-4f5d-e93f-e8d1388f91db"
      },
      "outputs": [
        {
          "output_type": "execute_result",
          "data": {
            "text/plain": [
              "<IPython.lib.display.IFrame at 0x7f20371e52d0>"
            ],
            "text/html": [
              "\n",
              "        <iframe\n",
              "            width=\"854\"\n",
              "            height=\"480\"\n",
              "            src=\"https://mfr.ca-1.osf.io/render?url=https://osf.io/kaq2x/?direct%26mode=render%26action=download%26mode=render\"\n",
              "            frameborder=\"0\"\n",
              "            allowfullscreen\n",
              "        ></iframe>\n",
              "        "
            ]
          },
          "metadata": {},
          "execution_count": 1
        }
      ],
      "source": [
        "# @title Tutorial slides\n",
        "\n",
        "# @markdown These are the slides for the videos in all tutorials today\n",
        "from IPython.display import IFrame\n",
        "IFrame(src=f\"https://mfr.ca-1.osf.io/render?url=https://osf.io/kaq2x/?direct%26mode=render%26action=download%26mode=render\", width=854, height=480)"
      ]
    },
    {
      "cell_type": "code",
      "execution_count": 2,
      "metadata": {
        "cellView": "form",
        "execution": {},
        "id": "okBdR_n1Fl_R",
        "colab": {
          "base_uri": "https://localhost:8080/",
          "height": 582,
          "referenced_widgets": [
            "6d8319ce7fb447398ec9dad7e2295444",
            "a07de452289147fc9f5f06aac8de0f75",
            "b75189c41b484678bc70c62d1d2fb5a9",
            "62b9301939f949deac4adc6ecb4ad57c",
            "96138624949e4391b773258f43a82253",
            "36eee8bba80649d1ab05ec2765309b4f"
          ]
        },
        "outputId": "64eb8e0c-452e-4283-9e93-0a69bc7bbb5f"
      },
      "outputs": [
        {
          "output_type": "display_data",
          "data": {
            "text/plain": [
              "Tab(children=(Output(), Output()), _titles={'0': 'Youtube', '1': 'Bilibili'})"
            ],
            "application/vnd.jupyter.widget-view+json": {
              "version_major": 2,
              "version_minor": 0,
              "model_id": "6d8319ce7fb447398ec9dad7e2295444"
            }
          },
          "metadata": {}
        }
      ],
      "source": [
        "# @title Video 1: Geometric view of data\n",
        "from ipywidgets import widgets\n",
        "\n",
        "out2 = widgets.Output()\n",
        "with out2:\n",
        "  from IPython.display import IFrame\n",
        "  class BiliVideo(IFrame):\n",
        "      def __init__(self, id, page=1, width=400, height=300, **kwargs):\n",
        "          self.id=id\n",
        "          src = 'https://player.bilibili.com/player.html?bvid={0}&page={1}'.format(id, page)\n",
        "          super(BiliVideo, self).__init__(src, width, height, **kwargs)\n",
        "\n",
        "  video = BiliVideo(id=\"BV1Af4y1R78w\", width=854, height=480, fs=1)\n",
        "  print('Video available at https://www.bilibili.com/video/{0}'.format(video.id))\n",
        "  display(video)\n",
        "\n",
        "out1 = widgets.Output()\n",
        "with out1:\n",
        "  from IPython.display import YouTubeVideo\n",
        "  video = YouTubeVideo(id=\"THu9yHnpq9I\", width=854, height=480, fs=1, rel=0)\n",
        "  print('Video available at https://youtube.com/watch?v=' + video.id)\n",
        "  display(video)\n",
        "\n",
        "out = widgets.Tab([out1, out2])\n",
        "out.set_title(0, 'Youtube')\n",
        "out.set_title(1, 'Bilibili')\n",
        "\n",
        "display(out)"
      ]
    },
    {
      "cell_type": "markdown",
      "metadata": {
        "execution": {},
        "id": "-LXg8YlFFl_R"
      },
      "source": [
        "---\n",
        "# Setup"
      ]
    },
    {
      "cell_type": "code",
      "execution_count": 3,
      "metadata": {
        "execution": {},
        "id": "2IcQoPaxFl_R"
      },
      "outputs": [],
      "source": [
        "# Imports\n",
        "import numpy as np\n",
        "import matplotlib.pyplot as plt"
      ]
    },
    {
      "cell_type": "code",
      "execution_count": 4,
      "metadata": {
        "cellView": "form",
        "execution": {},
        "id": "97sUIBQuFl_S"
      },
      "outputs": [],
      "source": [
        "# @title Figure Settings\n",
        "import ipywidgets as widgets  # interactive display\n",
        "%config InlineBackend.figure_format = 'retina'\n",
        "plt.style.use(\"https://raw.githubusercontent.com/NeuromatchAcademy/course-content/main/nma.mplstyle\")"
      ]
    },
    {
      "cell_type": "code",
      "execution_count": 5,
      "metadata": {
        "cellView": "form",
        "execution": {},
        "id": "SQ6KyTELFl_S"
      },
      "outputs": [],
      "source": [
        "# @title Plotting Functions\n",
        "\n",
        "def plot_data(X):\n",
        "  \"\"\"\n",
        "  Plots bivariate data. Includes a plot of each random variable, and a scatter\n",
        "  plot of their joint activity. The title indicates the sample correlation\n",
        "  calculated from the data.\n",
        "\n",
        "  Args:\n",
        "    X (numpy array of floats) :   Data matrix each column corresponds to a\n",
        "                                  different random variable\n",
        "\n",
        "  Returns:\n",
        "    Nothing.\n",
        "  \"\"\"\n",
        "\n",
        "  fig = plt.figure(figsize=[8, 4])\n",
        "  gs = fig.add_gridspec(2, 2)\n",
        "  ax1 = fig.add_subplot(gs[0, 0])\n",
        "  ax1.plot(X[:, 0], color='k')\n",
        "  plt.ylabel('Neuron 1')\n",
        "  plt.title('Sample var 1: {:.1f}'.format(np.var(X[:, 0])))\n",
        "  ax1.set_xticklabels([])\n",
        "  ax2 = fig.add_subplot(gs[1, 0])\n",
        "  ax2.plot(X[:, 1], color='k')\n",
        "  plt.xlabel('Sample Number')\n",
        "  plt.ylabel('Neuron 2')\n",
        "  plt.title('Sample var 2: {:.1f}'.format(np.var(X[:, 1])))\n",
        "  ax3 = fig.add_subplot(gs[:, 1])\n",
        "  ax3.plot(X[:, 0], X[:, 1], '.', markerfacecolor=[.5, .5, .5],\n",
        "           markeredgewidth=0)\n",
        "  ax3.axis('equal')\n",
        "  plt.xlabel('Neuron 1 activity')\n",
        "  plt.ylabel('Neuron 2 activity')\n",
        "  plt.title('Sample corr: {:.1f}'.format(np.corrcoef(X[:, 0], X[:, 1])[0, 1]))\n",
        "  plt.show()\n",
        "\n",
        "\n",
        "def plot_basis_vectors(X, W):\n",
        "  \"\"\"\n",
        "  Plots bivariate data as well as new basis vectors.\n",
        "\n",
        "  Args:\n",
        "    X (numpy array of floats) :   Data matrix each column corresponds to a\n",
        "                                  different random variable\n",
        "    W (numpy array of floats) :   Square matrix representing new orthonormal\n",
        "                                  basis each column represents a basis vector\n",
        "\n",
        "  Returns:\n",
        "    Nothing.\n",
        "  \"\"\"\n",
        "\n",
        "  plt.figure(figsize=[4, 4])\n",
        "  plt.plot(X[:, 0], X[:, 1], '.', color=[.5, .5, .5], label='Data')\n",
        "  plt.axis('equal')\n",
        "  plt.xlabel('Neuron 1 activity')\n",
        "  plt.ylabel('Neuron 2 activity')\n",
        "  plt.plot([0, W[0, 0]], [0, W[1, 0]], color='r', linewidth=3,\n",
        "           label='Basis vector 1')\n",
        "  plt.plot([0, W[0, 1]], [0, W[1, 1]], color='b', linewidth=3,\n",
        "           label='Basis vector 2')\n",
        "  plt.legend()\n",
        "  plt.show()\n",
        "\n",
        "\n",
        "def plot_data_new_basis(Y):\n",
        "  \"\"\"\n",
        "  Plots bivariate data after transformation to new bases.\n",
        "  Similar to plot_data but with colors corresponding to projections onto\n",
        "  basis 1 (red) and basis 2 (blue). The title indicates the sample correlation\n",
        "  calculated from the data.\n",
        "\n",
        "  Note that samples are re-sorted in ascending order for the first\n",
        "  random variable.\n",
        "\n",
        "  Args:\n",
        "    Y (numpy array of floats):   Data matrix in new basis each column\n",
        "                                 corresponds to a different random variable\n",
        "\n",
        "  Returns:\n",
        "    Nothing.\n",
        "  \"\"\"\n",
        "  fig = plt.figure(figsize=[8, 4])\n",
        "  gs = fig.add_gridspec(2, 2)\n",
        "  ax1 = fig.add_subplot(gs[0, 0])\n",
        "  ax1.plot(Y[:, 0], 'r')\n",
        "  plt.xlabel\n",
        "  plt.ylabel('Projection \\n basis vector 1')\n",
        "  plt.title('Sample var 1: {:.1f}'.format(np.var(Y[:, 0])))\n",
        "  ax1.set_xticklabels([])\n",
        "  ax2 = fig.add_subplot(gs[1, 0])\n",
        "  ax2.plot(Y[:, 1], 'b')\n",
        "  plt.xlabel('Sample number')\n",
        "  plt.ylabel('Projection \\n basis vector 2')\n",
        "  plt.title('Sample var 2: {:.1f}'.format(np.var(Y[:, 1])))\n",
        "  ax3 = fig.add_subplot(gs[:, 1])\n",
        "  ax3.plot(Y[:, 0], Y[:, 1], '.', color=[.5, .5, .5])\n",
        "  ax3.axis('equal')\n",
        "  plt.xlabel('Projection basis vector 1')\n",
        "  plt.ylabel('Projection basis vector 2')\n",
        "  plt.title('Sample corr: {:.1f}'.format(np.corrcoef(Y[:, 0], Y[:, 1])[0, 1]))\n",
        "  plt.show()"
      ]
    },
    {
      "cell_type": "markdown",
      "metadata": {
        "execution": {},
        "id": "ywni5d6qFl_T"
      },
      "source": [
        "---\n",
        "# Section 1: Generate correlated multivariate data"
      ]
    },
    {
      "cell_type": "code",
      "execution_count": 6,
      "metadata": {
        "cellView": "form",
        "execution": {},
        "id": "XggGDDB8Fl_T",
        "colab": {
          "base_uri": "https://localhost:8080/",
          "height": 582,
          "referenced_widgets": [
            "16e85cab20bc41cb9851fbc67f7a3f25",
            "c6f324544d01499c865aade72ff754c1",
            "159909cc089c4979b5b08bf38accd075",
            "76157c349fb24f2caa65313c8a0d0859",
            "74f3a8ba0e944231b4f108d0ce35894a",
            "865f91682bc34b80b66e54efa0d1e071"
          ]
        },
        "outputId": "1e1ae0a2-c066-4ed5-8804-c150a56b98e1"
      },
      "outputs": [
        {
          "output_type": "display_data",
          "data": {
            "text/plain": [
              "Tab(children=(Output(), Output()), _titles={'0': 'Youtube', '1': 'Bilibili'})"
            ],
            "application/vnd.jupyter.widget-view+json": {
              "version_major": 2,
              "version_minor": 0,
              "model_id": "16e85cab20bc41cb9851fbc67f7a3f25"
            }
          },
          "metadata": {}
        }
      ],
      "source": [
        "# @title Video 2: Multivariate data\n",
        "from ipywidgets import widgets\n",
        "\n",
        "out2 = widgets.Output()\n",
        "with out2:\n",
        "  from IPython.display import IFrame\n",
        "  class BiliVideo(IFrame):\n",
        "      def __init__(self, id, page=1, width=400, height=300, **kwargs):\n",
        "          self.id=id\n",
        "          src = 'https://player.bilibili.com/player.html?bvid={0}&page={1}'.format(id, page)\n",
        "          super(BiliVideo, self).__init__(src, width, height, **kwargs)\n",
        "\n",
        "  video = BiliVideo(id=\"BV1xz4y1D7ES\", width=854, height=480, fs=1)\n",
        "  print('Video available at https://www.bilibili.com/video/{0}'.format(video.id))\n",
        "  display(video)\n",
        "\n",
        "out1 = widgets.Output()\n",
        "with out1:\n",
        "  from IPython.display import YouTubeVideo\n",
        "  video = YouTubeVideo(id=\"jcTq2PgU5Vw\", width=854, height=480, fs=1, rel=0)\n",
        "  print('Video available at https://youtube.com/watch?v=' + video.id)\n",
        "  display(video)\n",
        "\n",
        "out = widgets.Tab([out1, out2])\n",
        "out.set_title(0, 'Youtube')\n",
        "out.set_title(1, 'Bilibili')\n",
        "\n",
        "display(out)"
      ]
    },
    {
      "cell_type": "markdown",
      "metadata": {
        "execution": {},
        "id": "CBMoKBd-Fl_T"
      },
      "source": [
        "This video describes the covariance matrix and the multivariate normal distribution.\n",
        "\n",
        "<details>\n",
        "<summary> <font color='blue'>Click here for text recap of video </font></summary>\n",
        "\n",
        "To gain intuition, we will first use a simple model to generate multivariate data. Specifically, we will draw random samples from a *bivariate normal distribution*. This is an extension of the one-dimensional normal distribution to two dimensions, in which each $x_i$ is marginally normal with mean $\\mu_i$ and variance $\\sigma_i^2$:\n",
        "\n",
        "\\begin{equation}\n",
        "x_i \\sim \\mathcal{N}(\\mu_i,\\sigma_i^2).\n",
        "\\end{equation}\n",
        "\n",
        "Additionally, the joint distribution for $x_1$ and $x_2$ has a specified correlation coefficient $\\rho$. Recall that the correlation coefficient is a normalized version of the covariance, and ranges between -1 and +1:\n",
        "\n",
        "\\begin{equation}\n",
        "\\rho = \\frac{\\text{cov}(x_1, x_2)}{\\sqrt{\\sigma_1^2 \\sigma_2^2}}.\n",
        "\\end{equation}\n",
        "\n",
        "For simplicity, we will assume that the mean of each variable has already been subtracted, so that $\\mu_i=0$ for both $i=1$ and $i=2$. The remaining parameters can be summarized in the covariance matrix, which for two dimensions has the following form:\n",
        "\n",
        "\\begin{equation}\n",
        "{\\bf \\Sigma} = \n",
        "\\begin{pmatrix}\n",
        " \\text{var}(x_1) & \\text{cov}(x_1,x_2) \\\\\n",
        " \\text{cov}(x_1,x_2) &\\text{var}(x_2)\n",
        "\\end{pmatrix}.\n",
        "\\end{equation}\n",
        "\n",
        "In general, $\\bf \\Sigma$ is a symmetric matrix with the variances $\\text{var}(x_i) = \\sigma_i^2$ on the diagonal, and the covariances on the off-diagonal. Later, we will see that the covariance matrix plays a key role in PCA.\n",
        "\n",
        "</details>"
      ]
    },
    {
      "cell_type": "markdown",
      "metadata": {
        "execution": {},
        "id": "RmiaNvvDFl_U"
      },
      "source": [
        "## Coding Exercise 1: Draw samples from a distribution\n",
        "\n",
        "We have provided code to draw random samples from a zero-mean bivariate normal distribution with a specified covariance matrix (`get_data`). Throughout this tutorial, we'll imagine these samples represent the activity (firing rates) of two recorded neurons on different trials. Fill in the function below to calculate the covariance matrix given the desired variances and correlation coefficient. The covariance can be found by rearranging the equation above:\n",
        "\n",
        "\\begin{equation}\n",
        "\\text{cov}(x_1,x_2) = \\rho \\sqrt{\\sigma_1^2 \\sigma_2^2}.\n",
        "\\end{equation}"
      ]
    },
    {
      "cell_type": "code",
      "execution_count": 7,
      "metadata": {
        "cellView": "form",
        "execution": {},
        "id": "S2GtnB5EFl_U",
        "colab": {
          "base_uri": "https://localhost:8080/"
        },
        "outputId": "a327def8-cf56-4673-b2db-e691884b0c66"
      },
      "outputs": [
        {
          "output_type": "stream",
          "name": "stdout",
          "text": [
            "Help on function get_data in module __main__:\n",
            "\n",
            "get_data(cov_matrix)\n",
            "    Returns a matrix of 1000 samples from a bivariate, zero-mean Gaussian.\n",
            "    \n",
            "    Note that samples are sorted in ascending order for the first random variable\n",
            "    \n",
            "    Args:\n",
            "      cov_matrix (numpy array of floats): desired covariance matrix\n",
            "    \n",
            "    Returns:\n",
            "      (numpy array of floats) : samples from the bivariate Gaussian, with each\n",
            "                                column corresponding to a different random\n",
            "                                variable\n",
            "\n"
          ]
        }
      ],
      "source": [
        "# @markdown Execute this cell to get helper function `get_data`\n",
        "\n",
        "def get_data(cov_matrix):\n",
        "  \"\"\"\n",
        "  Returns a matrix of 1000 samples from a bivariate, zero-mean Gaussian.\n",
        "\n",
        "  Note that samples are sorted in ascending order for the first random variable\n",
        "\n",
        "  Args:\n",
        "    cov_matrix (numpy array of floats): desired covariance matrix\n",
        "\n",
        "  Returns:\n",
        "    (numpy array of floats) : samples from the bivariate Gaussian, with each\n",
        "                              column corresponding to a different random\n",
        "                              variable\n",
        "  \"\"\"\n",
        "\n",
        "  mean = np.array([0, 0])\n",
        "  X = np.random.multivariate_normal(mean, cov_matrix, size=1000)\n",
        "  indices_for_sorting = np.argsort(X[:, 0])\n",
        "  X = X[indices_for_sorting, :]\n",
        "\n",
        "  return X\n",
        "\n",
        "help(get_data)"
      ]
    },
    {
      "cell_type": "code",
      "execution_count": 11,
      "metadata": {
        "execution": {},
        "id": "JOLjsw-iFl_U",
        "colab": {
          "base_uri": "https://localhost:8080/",
          "height": 341
        },
        "outputId": "ffe71d24-5cbf-4b05-cd09-84c43563999a"
      },
      "outputs": [
        {
          "output_type": "stream",
          "name": "stdout",
          "text": [
            "(2, 2)\n",
            "[[1.  0.8]\n",
            " [0.8 1. ]]\n"
          ]
        },
        {
          "output_type": "display_data",
          "data": {
            "text/plain": [
              "<Figure size 576x288 with 3 Axes>"
            ],
            "image/png": "[encoded data removed]"
          },
          "metadata": {
            "image/png": {
              "width": 557,
              "height": 269
            },
            "needs_background": "light"
          }
        }
      ],
      "source": [
        "def calculate_cov_matrix(var_1, var_2, corr_coef):\n",
        "  \"\"\"\n",
        "  Calculates the covariance matrix based on the variances and correlation\n",
        "  coefficient.\n",
        "\n",
        "  Args:\n",
        "    var_1 (scalar)          : variance of the first random variable\n",
        "    var_2 (scalar)          : variance of the second random variable\n",
        "    corr_coef (scalar)      : correlation coefficient\n",
        "\n",
        "  Returns:\n",
        "    (numpy array of floats) : covariance matrix\n",
        "  \"\"\"\n",
        "\n",
        "  # Calculate the covariance from the variances and correlation\n",
        "  cov = corr_coef * np.sqrt(var_1**2 * var_2**2)\n",
        "\n",
        "  cov_matrix = np.array([[var_1, cov], [cov, var_2]])\n",
        "\n",
        "  return cov_matrix\n",
        "\n",
        "\n",
        "# Set parameters\n",
        "np.random.seed(2020)  # set random seed\n",
        "variance_1 = 1\n",
        "variance_2 = 1\n",
        "corr_coef = 0.8\n",
        "\n",
        "# Compute covariance matrix\n",
        "cov_matrix = calculate_cov_matrix(variance_1, variance_2, corr_coef)\n",
        "print(cov_matrix.shape)\n",
        "print(cov_matrix)\n",
        "\n",
        "# Generate data with this covariance matrix\n",
        "X = get_data(cov_matrix)\n",
        "\n",
        "# Visualize\n",
        "plot_data(X)"
      ]
    },
    {
      "cell_type": "markdown",
      "metadata": {
        "execution": {},
        "id": "0-xdiRPIFl_V"
      },
      "source": [
        "[*Click for solution*](https://github.com/NeuromatchAcademy/course-content/tree/main//tutorials/W1D4_DimensionalityReduction/solutions/W1D4_Tutorial1_Solution_85104841.py)\n",
        "\n",
        "*Example output:*\n",
        "\n",
        "<img alt='Solution hint' align='left' width=1137.0 height=561.0 src=https://raw.githubusercontent.com/NeuromatchAcademy/course-content/main/tutorials/W1D4_DimensionalityReduction/static/W1D4_Tutorial1_Solution_85104841_0.png>\n",
        "\n"
      ]
    },
    {
      "cell_type": "markdown",
      "metadata": {
        "execution": {},
        "id": "cBNYMV1tFl_V"
      },
      "source": [
        "## Interactive Demo 1: Correlation effect on data\n",
        "\n",
        "We'll use the function you just completed but now we can change the correlation coefficient via slider. You should get a feel for how changing the correlation coefficient affects the geometry of the simulated data.\n",
        "\n",
        "1.   What effect do negative correlation coefficient values have?\n",
        "2.   What correlation coefficient results in a circular data cloud?\n",
        "\n",
        "\n",
        "Note that we sort the samples according to neuron 1's firing rate, meaning the plot of neuron 1 firing rate over sample number looks clean and pretty unchanging when compared to neuron 2.\n"
      ]
    },
    {
      "cell_type": "code",
      "execution_count": 12,
      "metadata": {
        "cellView": "form",
        "execution": {},
        "id": "enbTv8l-Fl_V",
        "colab": {
          "base_uri": "https://localhost:8080/",
          "height": 318,
          "referenced_widgets": [
            "39ab5f10215446bfb997e312c4b9b4fc",
            "7e6defd846ff43bc85cf799ff42078f8",
            "e30f10d481ca43638ce0048954cabf97",
            "18e069dab317416ba1386c30d3fe3683",
            "1a38cc2d8fd94854b10cf432f1a79bc2",
            "a20836616f114ea8894719783b762502",
            "aca822f90f564c148a6335d7e34c863c"
          ]
        },
        "outputId": "b6ab7223-fce7-4607-ab4c-29c0825631d6"
      },
      "outputs": [
        {
          "output_type": "display_data",
          "data": {
            "text/plain": [
              "interactive(children=(FloatSlider(value=0.2, description='corr_coef', max=1.0, min=-1.0), Output()), _dom_clas…"
            ],
            "application/vnd.jupyter.widget-view+json": {
              "version_major": 2,
              "version_minor": 0,
              "model_id": "39ab5f10215446bfb997e312c4b9b4fc"
            }
          },
          "metadata": {}
        }
      ],
      "source": [
        "# @markdown Execute this cell to enable widget\n",
        "\n",
        "def _calculate_cov_matrix(var_1, var_2, corr_coef):\n",
        "\n",
        "  # Calculate the covariance from the variances and correlation\n",
        "  cov = corr_coef * np.sqrt(var_1 * var_2)\n",
        "\n",
        "  cov_matrix = np.array([[var_1, cov], [cov, var_2]])\n",
        "\n",
        "  return cov_matrix\n",
        "\n",
        "\n",
        "@widgets.interact(corr_coef = widgets.FloatSlider(value=.2, min=-1, max=1, step=0.1))\n",
        "def visualize_correlated_data(corr_coef=0):\n",
        "  variance_1 = 1\n",
        "  variance_2 = 1\n",
        "\n",
        "  # Compute covariance matrix\n",
        "  cov_matrix = _calculate_cov_matrix(variance_1, variance_2, corr_coef)\n",
        "\n",
        "  # Generate data with this covariance matrix\n",
        "  X = get_data(cov_matrix)\n",
        "\n",
        "  # Visualize\n",
        "  plot_data(X)"
      ]
    },
    {
      "cell_type": "markdown",
      "metadata": {
        "execution": {},
        "id": "qqC8QXMqFl_W"
      },
      "source": [
        "[*Click for solution*](https://github.com/NeuromatchAcademy/course-content/tree/main//tutorials/W1D4_DimensionalityReduction/solutions/W1D4_Tutorial1_Solution_5d14b461.py)\n",
        "\n"
      ]
    },
    {
      "cell_type": "markdown",
      "metadata": {
        "execution": {},
        "id": "CnSnnurNFl_W"
      },
      "source": [
        "---\n",
        "# Section 2: Define a new orthonormal basis\n",
        "\n",
        "*Estimated timing to here from start of tutorial: 20 min*\n"
      ]
    },
    {
      "cell_type": "code",
      "execution_count": 13,
      "metadata": {
        "cellView": "form",
        "execution": {},
        "id": "yhSajRSuFl_W",
        "colab": {
          "base_uri": "https://localhost:8080/",
          "height": 582,
          "referenced_widgets": [
            "238fd2c222dd4a7c917a56ca50988316",
            "6360c05666c2457f8a63919982c1feff",
            "f92d997555d34173b645e86800710ebb",
            "2508b8cf97984b87afe4a7de25c5f371",
            "ac2b15862fc14381b3a1793d974f6627",
            "a7ee58218c13433fbf3f9a2b109440cd"
          ]
        },
        "outputId": "5d72e4ba-2c89-4a5b-86b5-47857cd7d6d1"
      },
      "outputs": [
        {
          "output_type": "display_data",
          "data": {
            "text/plain": [
              "Tab(children=(Output(), Output()), _titles={'0': 'Youtube', '1': 'Bilibili'})"
            ],
            "application/vnd.jupyter.widget-view+json": {
              "version_major": 2,
              "version_minor": 0,
              "model_id": "238fd2c222dd4a7c917a56ca50988316"
            }
          },
          "metadata": {}
        }
      ],
      "source": [
        "# @title Video 3: Orthonormal bases\n",
        "from ipywidgets import widgets\n",
        "\n",
        "out2 = widgets.Output()\n",
        "with out2:\n",
        "  from IPython.display import IFrame\n",
        "  class BiliVideo(IFrame):\n",
        "      def __init__(self, id, page=1, width=400, height=300, **kwargs):\n",
        "          self.id=id\n",
        "          src = 'https://player.bilibili.com/player.html?bvid={0}&page={1}'.format(id, page)\n",
        "          super(BiliVideo, self).__init__(src, width, height, **kwargs)\n",
        "\n",
        "  video = BiliVideo(id=\"BV1wT4y1E71g\", width=854, height=480, fs=1)\n",
        "  print('Video available at https://www.bilibili.com/video/{0}'.format(video.id))\n",
        "  display(video)\n",
        "\n",
        "out1 = widgets.Output()\n",
        "with out1:\n",
        "  from IPython.display import YouTubeVideo\n",
        "  video = YouTubeVideo(id=\"PC1RZELnrIg\", width=854, height=480, fs=1, rel=0)\n",
        "  print('Video available at https://youtube.com/watch?v=' + video.id)\n",
        "  display(video)\n",
        "\n",
        "out = widgets.Tab([out1, out2])\n",
        "out.set_title(0, 'Youtube')\n",
        "out.set_title(1, 'Bilibili')\n",
        "\n",
        "display(out)"
      ]
    },
    {
      "cell_type": "markdown",
      "metadata": {
        "execution": {},
        "id": "oh4_X4jHFl_W"
      },
      "source": [
        "This video shows that data can be represented in many ways using different bases. It also explains how to check if your favorite basis is orthonormal.\n",
        "\n",
        "<details>\n",
        "<summary> <font color='blue'>Click here for text recap of video </font></summary>\n",
        "\n",
        "Next, we will define a new orthonormal basis of vectors ${\\bf u} = [u_1,u_2]$ and ${\\bf w} = [w_1,w_2]$. As we learned in the video, two vectors are orthonormal if: \n",
        "\n",
        "1. They are orthogonal (i.e., their dot product is zero):\n",
        "\n",
        "\\begin{equation}\n",
        "{\\bf u\\cdot w} = u_1 w_1 + u_2 w_2 = 0\n",
        "\\end{equation}\n",
        "\n",
        "2. They have unit length:\n",
        "\n",
        "\\begin{equation}\n",
        "||{\\bf u}|| = ||{\\bf w} || = 1\n",
        "\\end{equation}\n",
        "\n",
        "</details>\n",
        "\n",
        "In two dimensions, it is easy to make an arbitrary orthonormal basis. All we need is a random vector ${\\bf u}$, which we have normalized. If we now define the second basis vector to be ${\\bf w} = [-u_2,u_1]$, we can check that both conditions are satisfied: \n",
        "\n",
        "\\begin{equation}\n",
        "{\\bf u\\cdot w} = - u_1 u_2 + u_2 u_1 = 0\n",
        "\\end{equation}\n",
        "\n",
        "and \n",
        "\n",
        "\\begin{equation}\n",
        "{|| {\\bf w} ||} = \\sqrt{(-u_2)^2 + u_1^2} = \\sqrt{u_1^2 + u_2^2} = 1,\n",
        "\\end{equation}\n",
        "\n",
        "where we used the fact that ${\\bf u}$ is normalized. So, with an arbitrary input vector, we can define an orthonormal basis, which we will write in matrix by stacking the basis vectors horizontally:\n",
        "\n",
        "\\begin{equation}\n",
        "{{\\bf W} } =\n",
        "\\begin{pmatrix}\n",
        " u_1 & w_1 \\\\\n",
        " u_2 & w_2\n",
        "\\end{pmatrix}.\n",
        "\\end{equation}"
      ]
    },
    {
      "cell_type": "markdown",
      "metadata": {
        "execution": {},
        "id": "dP_4OZyIFl_X"
      },
      "source": [
        "## Coding Exercise 2: Find an orthonormal basis\n",
        "\n",
        "In this exercise you will fill in the function below to define an orthonormal basis, given a single arbitrary 2-dimensional vector as an input.\n",
        "\n",
        "**Steps**\n",
        "* Modify the function `define_orthonormal_basis` to first normalize the first basis vector $\\bf u$.\n",
        "* Then complete the function by finding a basis vector $\\bf w$ that is orthogonal to $\\bf u$.\n",
        "* Test the function using initial basis vector ${\\bf u} = [3,1]$. Plot the resulting basis vectors on top of the data scatter plot using the function `plot_basis_vectors`. (For the data, use  $\\sigma_1^2 =1$, $\\sigma_2^2 =1$, and $\\rho = .8$)."
      ]
    },
    {
      "cell_type": "code",
      "execution_count": 16,
      "metadata": {
        "execution": {},
        "id": "4ZQ2zmKSFl_X",
        "colab": {
          "base_uri": "https://localhost:8080/",
          "height": 287
        },
        "outputId": "ff6a235f-9180-4876-b301-afefc768d2d5"
      },
      "outputs": [
        {
          "output_type": "display_data",
          "data": {
            "text/plain": [
              "<Figure size 288x288 with 1 Axes>"
            ],
            "image/png": "[encoded data removed]"
          },
          "metadata": {
            "image/png": {
              "width": 269,
              "height": 270
            },
            "needs_background": "light"
          }
        }
      ],
      "source": [
        "def define_orthonormal_basis(u):\n",
        "  \"\"\"\n",
        "  Calculates an orthonormal basis given an arbitrary vector u.\n",
        "\n",
        "  Args:\n",
        "    u (numpy array of floats) : arbitrary 2-dimensional vector used for new\n",
        "                                basis\n",
        "\n",
        "  Returns:\n",
        "    (numpy array of floats)   : new orthonormal basis\n",
        "                                columns correspond to basis vectors\n",
        "  \"\"\"\n",
        "\n",
        "  # Normalize vector u\n",
        "  u = u / np.sqrt(u[0]**2 + u[1]**2)\n",
        "\n",
        "  # Calculate vector w that is orthogonal to w\n",
        "  w = np.array([-u[1], u[0]])\n",
        "\n",
        "  # Put in matrix form\n",
        "  W = np.column_stack([u, w])\n",
        "\n",
        "  return W\n",
        "\n",
        "\n",
        "# Set up parameters\n",
        "np.random.seed(2020)  # set random seed\n",
        "variance_1 = 1\n",
        "variance_2 = 1\n",
        "corr_coef = 0.8\n",
        "u = np.array([3, 1])\n",
        "\n",
        "# Compute covariance matrix\n",
        "cov_matrix = calculate_cov_matrix(variance_1, variance_2, corr_coef)\n",
        "\n",
        "# Generate data\n",
        "X = get_data(cov_matrix)\n",
        "\n",
        "# Get orthonomal basis\n",
        "W = define_orthonormal_basis(u)\n",
        "\n",
        "# Visualize\n",
        "plot_basis_vectors(X, W)"
      ]
    },
    {
      "cell_type": "markdown",
      "metadata": {
        "execution": {},
        "id": "R0HNo9DgFl_X"
      },
      "source": [
        "[*Click for solution*](https://github.com/NeuromatchAcademy/course-content/tree/main//tutorials/W1D4_DimensionalityReduction/solutions/W1D4_Tutorial1_Solution_25e1d102.py)\n",
        "\n",
        "*Example output:*\n",
        "\n",
        "<img alt='Solution hint' align='left' width=378.0 height=378.0 src=https://raw.githubusercontent.com/NeuromatchAcademy/course-content/main/tutorials/W1D4_DimensionalityReduction/static/W1D4_Tutorial1_Solution_25e1d102_0.png>\n",
        "\n"
      ]
    },
    {
      "cell_type": "markdown",
      "metadata": {
        "execution": {},
        "id": "dfljzpEPFl_X"
      },
      "source": [
        "---\n",
        "# Section 3: Project data onto new basis\n",
        "\n",
        "*Estimated timing to here from start of tutorial: 35 min*"
      ]
    },
    {
      "cell_type": "code",
      "execution_count": null,
      "metadata": {
        "cellView": "form",
        "execution": {},
        "id": "z7NXfjsaFl_X"
      },
      "outputs": [],
      "source": [
        "# @title Video 4: Change of basis\n",
        "from ipywidgets import widgets\n",
        "\n",
        "out2 = widgets.Output()\n",
        "with out2:\n",
        "  from IPython.display import IFrame\n",
        "  class BiliVideo(IFrame):\n",
        "      def __init__(self, id, page=1, width=400, height=300, **kwargs):\n",
        "          self.id=id\n",
        "          src = 'https://player.bilibili.com/player.html?bvid={0}&page={1}'.format(id, page)\n",
        "          super(BiliVideo, self).__init__(src, width, height, **kwargs)\n",
        "\n",
        "  video = BiliVideo(id=\"BV1LK411J7NQ\", width=854, height=480, fs=1)\n",
        "  print('Video available at https://www.bilibili.com/video/{0}'.format(video.id))\n",
        "  display(video)\n",
        "\n",
        "out1 = widgets.Output()\n",
        "with out1:\n",
        "  from IPython.display import YouTubeVideo\n",
        "  video = YouTubeVideo(id=\"Mj6BRQPKKUc\", width=854, height=480, fs=1, rel=0)\n",
        "  print('Video available at https://youtube.com/watch?v=' + video.id)\n",
        "  display(video)\n",
        "\n",
        "out = widgets.Tab([out1, out2])\n",
        "out.set_title(0, 'Youtube')\n",
        "out.set_title(1, 'Bilibili')\n",
        "\n",
        "display(out)"
      ]
    },
    {
      "cell_type": "markdown",
      "metadata": {
        "execution": {},
        "id": "vIwBBOWCFl_Y"
      },
      "source": [
        "Finally, we will express our data in the new basis that we have just found. Since $\\bf W$ is orthonormal, we can project the data into our new basis using simple matrix multiplication :\n",
        "\n",
        "\\begin{equation}\n",
        "{\\bf Y = X W}.\n",
        "\\end{equation}\n",
        "\n",
        "We will explore the geometry of the transformed data $\\bf Y$ as we vary the choice of basis."
      ]
    },
    {
      "cell_type": "markdown",
      "metadata": {
        "execution": {},
        "id": "SbEruwkbFl_Y"
      },
      "source": [
        "## Coding Exercise 3: Change to orthonormal basis\n",
        "In this exercise you will fill in the function below to change data to an orthonormal basis.\n",
        "\n",
        "**Steps**\n",
        "* Complete the function `change_of_basis` to project the data onto the new basis.\n",
        "* Plot the projected data using the function `plot_data_new_basis`. \n",
        "* What happens to the correlation coefficient in the new basis? Does it increase or decrease? \n",
        "* What happens to variance? \n",
        "\n"
      ]
    },
    {
      "cell_type": "code",
      "execution_count": null,
      "metadata": {
        "execution": {},
        "id": "81nXwkEOFl_Y"
      },
      "outputs": [],
      "source": [
        "def change_of_basis(X, W):\n",
        "  \"\"\"\n",
        "  Projects data onto new basis W.\n",
        "\n",
        "  Args:\n",
        "    X (numpy array of floats) : Data matrix each column corresponding to a\n",
        "                                different random variable\n",
        "    W (numpy array of floats) : new orthonormal basis columns correspond to\n",
        "                                basis vectors\n",
        "\n",
        "  Returns:\n",
        "    (numpy array of floats)    : Data matrix expressed in new basis\n",
        "  \"\"\"\n",
        "\n",
        "  #################################################\n",
        "  ## TODO for students: project the data onto a new basis W\n",
        "  # Fill out function and remove\n",
        "  raise NotImplementedError(\"Student exercise: implement change of basis\")\n",
        "  #################################################\n",
        "\n",
        "  # Project data onto new basis described by W\n",
        "  Y = ...\n",
        "\n",
        "  return Y\n",
        "\n",
        "\n",
        "# Project data to new basis\n",
        "Y = change_of_basis(X, W)\n",
        "\n",
        "# Visualize\n",
        "plot_data_new_basis(Y)"
      ]
    },
    {
      "cell_type": "markdown",
      "metadata": {
        "execution": {},
        "id": "9lzFgoppFl_Y"
      },
      "source": [
        "[*Click for solution*](https://github.com/NeuromatchAcademy/course-content/tree/main//tutorials/W1D4_DimensionalityReduction/solutions/W1D4_Tutorial1_Solution_80a5f41b.py)\n",
        "\n",
        "*Example output:*\n",
        "\n",
        "<img alt='Solution hint' align='left' width=777.0 height=378.0 src=https://raw.githubusercontent.com/NeuromatchAcademy/course-content/main/tutorials/W1D4_DimensionalityReduction/static/W1D4_Tutorial1_Solution_80a5f41b_0.png>\n",
        "\n"
      ]
    },
    {
      "cell_type": "markdown",
      "metadata": {
        "execution": {},
        "id": "2frOzLEcFl_Y"
      },
      "source": [
        "## Interactive Demo 3: Play with the basis vectors\n",
        "To see what happens to the correlation as we change the basis vectors, run the cell below. The parameter $\\theta$ controls the angle of $\\bf u$ in degrees. Use the slider to rotate the basis vectors. \n",
        "\n",
        "\n",
        "\n",
        "1.   What happens to the projected data as you rotate the basis? \n",
        "2.   How does the correlation coefficient change? How does the variance of the projection onto each basis vector change?\n",
        "3.   Are you able to find a basis in which the projected data is **uncorrelated**?"
      ]
    },
    {
      "cell_type": "code",
      "execution_count": null,
      "metadata": {
        "cellView": "form",
        "execution": {},
        "id": "SID6TUmGFl_Z"
      },
      "outputs": [],
      "source": [
        "# @markdown Make sure you execute this cell to enable the widget!\n",
        "\n",
        "def refresh(theta=0):\n",
        "  u = np.array([1, np.tan(theta * np.pi / 180)])\n",
        "  W = define_orthonormal_basis(u)\n",
        "  Y = change_of_basis(X, W)\n",
        "  plot_basis_vectors(X, W)\n",
        "  plot_data_new_basis(Y)\n",
        "\n",
        "\n",
        "_ = widgets.interact(refresh, theta=(0, 90, 5))"
      ]
    },
    {
      "cell_type": "markdown",
      "metadata": {
        "execution": {},
        "id": "mxqFe9NZFl_Z"
      },
      "source": [
        "[*Click for solution*](https://github.com/NeuromatchAcademy/course-content/tree/main//tutorials/W1D4_DimensionalityReduction/solutions/W1D4_Tutorial1_Solution_ec08cb0b.py)\n",
        "\n"
      ]
    },
    {
      "cell_type": "markdown",
      "metadata": {
        "execution": {},
        "id": "OEb_J2i9Fl_Z"
      },
      "source": [
        "---\n",
        "# Summary\n",
        "\n",
        "*Estimated timing of tutorial: 50 minutes*\n",
        "\n",
        "- In this tutorial, we learned that multivariate data can be visualized as a cloud of points in a high-dimensional vector space. The geometry of this cloud is shaped by the covariance matrix.\n",
        "\n",
        "- Multivariate data can be represented in a new orthonormal basis using the dot product. These new basis vectors correspond to specific mixtures of the original variables - for example, in neuroscience, they could represent different ratios of activation  across a population of neurons.\n",
        "\n",
        "- The projected data (after transforming into the new basis) will generally have a different geometry from the original data. In particular, taking basis vectors that are aligned with the spread of cloud of points decorrelates the data.\n",
        "\n",
        "* These concepts - covariance, projections, and orthonormal bases - are key for understanding PCA, which will be our focus in the next tutorial."
      ]
    },
    {
      "cell_type": "markdown",
      "metadata": {
        "execution": {},
        "id": "yVOEzgt9Fl_Z"
      },
      "source": [
        "---\n",
        "# Notation\n",
        "\n",
        "\\begin{align}\n",
        "x_i &\\quad \\text{data point for dimension } i\\\\\n",
        "\\mu_i &\\quad \\text{mean along dimension } i\\\\\n",
        "\\sigma_i^2 &\\quad \\text{variance along dimension } i \\\\\n",
        "\\bf u, \\bf w &\\quad \\text{orthonormal basis vectors}\\\\\n",
        "\\rho &\\quad \\text{correlation coefficient}\\\\\n",
        "\\bf \\Sigma &\\quad \\text{covariance matrix}\\\\\n",
        "\\bf X &\\quad \\text{original data matrix}\\\\\n",
        "\\bf W &\\quad \\text{projection matrix}\\\\\n",
        "\\bf Y &\\quad \\text{transformed data}\\\\\n",
        "\\end{align}"
      ]
    }
  ],
  "metadata": {
    "colab": {
      "collapsed_sections": [],
      "name": "W1D4_Tutorial1",
      "provenance": [],
      "toc_visible": true,
      "include_colab_link": true
    },
    "kernel": {
      "display_name": "Python 3",
      "language": "python",
      "name": "python3"
    },
    "kernelspec": {
      "display_name": "Python 3",
      "language": "python",
      "name": "python3"
    },
    "language_info": {
      "codemirror_mode": {
        "name": "ipython",
        "version": 3
      },
      "file_extension": ".py",
      "mimetype": "text/x-python",
      "name": "python",
      "nbconvert_exporter": "python",
      "pygments_lexer": "ipython3",
      "version": "3.7.13"
    },
    "widgets": {
      "application/vnd.jupyter.widget-state+json": {
        "6d8319ce7fb447398ec9dad7e2295444": {
          "model_module": "@jupyter-widgets/controls",
          "model_name": "TabModel",
          "model_module_version": "1.5.0",
          "state": {
            "_dom_classes": [],
            "_model_module": "@jupyter-widgets/controls",
            "_model_module_version": "1.5.0",
            "_model_name": "TabModel",
            "_titles": {
              "0": "Youtube",
              "1": "Bilibili"
            },
            "_view_count": null,
            "_view_module": "@jupyter-widgets/controls",
            "_view_module_version": "1.5.0",
            "_view_name": "TabView",
            "box_style": "",
            "children": [
              "IPY_MODEL_a07de452289147fc9f5f06aac8de0f75",
              "IPY_MODEL_b75189c41b484678bc70c62d1d2fb5a9"
            ],
            "layout": "IPY_MODEL_62b9301939f949deac4adc6ecb4ad57c",
            "selected_index": 0
          }
        },
        "a07de452289147fc9f5f06aac8de0f75": {
          "model_module": "@jupyter-widgets/output",
          "model_name": "OutputModel",
          "model_module_version": "1.0.0",
          "state": {
            "_dom_classes": [],
            "_model_module": "@jupyter-widgets/output",
            "_model_module_version": "1.0.0",
            "_model_name": "OutputModel",
            "_view_count": null,
            "_view_module": "@jupyter-widgets/output",
            "_view_module_version": "1.0.0",
            "_view_name": "OutputView",
            "layout": "IPY_MODEL_96138624949e4391b773258f43a82253",
            "msg_id": "",
            "outputs": [
              {
                "output_type": "stream",
                "name": "stdout",
                "text": [
                  "Video available at https://youtube.com/watch?v=THu9yHnpq9I\n"
                ]
              },
              {
                "output_type": "display_data",
                "data": {
                  "text/plain": "<IPython.lib.display.YouTubeVideo at 0x7f2035091ed0>",
                  "text/html": "\n        <iframe\n            width=\"854\"\n            height=\"480\"\n            src=\"https://www.youtube.com/embed/THu9yHnpq9I?fs=1&rel=0\"\n            frameborder=\"0\"\n            allowfullscreen\n        ></iframe>\n        ",
                  "image/jpeg": "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\n"
                },
                "metadata": {}
              }
            ]
          }
        },
        "b75189c41b484678bc70c62d1d2fb5a9": {
          "model_module": "@jupyter-widgets/output",
          "model_name": "OutputModel",
          "model_module_version": "1.0.0",
          "state": {
            "_dom_classes": [],
            "_model_module": "@jupyter-widgets/output",
            "_model_module_version": "1.0.0",
            "_model_name": "OutputModel",
            "_view_count": null,
            "_view_module": "@jupyter-widgets/output",
            "_view_module_version": "1.0.0",
            "_view_name": "OutputView",
            "layout": "IPY_MODEL_36eee8bba80649d1ab05ec2765309b4f",
            "msg_id": "",
            "outputs": [
              {
                "output_type": "stream",
                "name": "stdout",
                "text": [
                  "Video available at https://www.bilibili.com/video/BV1Af4y1R78w\n"
                ]
              },
              {
                "output_type": "display_data",
                "data": {
                  "text/plain": "<__main__.BiliVideo at 0x7f2035091d10>",
                  "text/html": "\n        <iframe\n            width=\"854\"\n            height=\"480\"\n            src=\"https://player.bilibili.com/player.html?bvid=BV1Af4y1R78w&page=1?fs=1\"\n            frameborder=\"0\"\n            allowfullscreen\n        ></iframe>\n        "
                },
                "metadata": {}
              }
            ]
          }
        },
        "62b9301939f949deac4adc6ecb4ad57c": {
          "model_module": "@jupyter-widgets/base",
          "model_name": "LayoutModel",
          "model_module_version": "1.2.0",
          "state": {
            "_model_module": "@jupyter-widgets/base",
            "_model_module_version": "1.2.0",
            "_model_name": "LayoutModel",
            "_view_count": null,
            "_view_module": "@jupyter-widgets/base",
            "_view_module_version": "1.2.0",
            "_view_name": "LayoutView",
            "align_content": null,
            "align_items": null,
            "align_self": null,
            "border": null,
            "bottom": null,
            "display": null,
            "flex": null,
            "flex_flow": null,
            "grid_area": null,
            "grid_auto_columns": null,
            "grid_auto_flow": null,
            "grid_auto_rows": null,
            "grid_column": null,
            "grid_gap": null,
            "grid_row": null,
            "grid_template_areas": null,
            "grid_template_columns": null,
            "grid_template_rows": null,
            "height": null,
            "justify_content": null,
            "justify_items": null,
            "left": null,
            "margin": null,
            "max_height": null,
            "max_width": null,
            "min_height": null,
            "min_width": null,
            "object_fit": null,
            "object_position": null,
            "order": null,
            "overflow": null,
            "overflow_x": null,
            "overflow_y": null,
            "padding": null,
            "right": null,
            "top": null,
            "visibility": null,
            "width": null
          }
        },
        "96138624949e4391b773258f43a82253": {
          "model_module": "@jupyter-widgets/base",
          "model_name": "LayoutModel",
          "model_module_version": "1.2.0",
          "state": {
            "_model_module": "@jupyter-widgets/base",
            "_model_module_version": "1.2.0",
            "_model_name": "LayoutModel",
            "_view_count": null,
            "_view_module": "@jupyter-widgets/base",
            "_view_module_version": "1.2.0",
            "_view_name": "LayoutView",
            "align_content": null,
            "align_items": null,
            "align_self": null,
            "border": null,
            "bottom": null,
            "display": null,
            "flex": null,
            "flex_flow": null,
            "grid_area": null,
            "grid_auto_columns": null,
            "grid_auto_flow": null,
            "grid_auto_rows": null,
            "grid_column": null,
            "grid_gap": null,
            "grid_row": null,
            "grid_template_areas": null,
            "grid_template_columns": null,
            "grid_template_rows": null,
            "height": null,
            "justify_content": null,
            "justify_items": null,
            "left": null,
            "margin": null,
            "max_height": null,
            "max_width": null,
            "min_height": null,
            "min_width": null,
            "object_fit": null,
            "object_position": null,
            "order": null,
            "overflow": null,
            "overflow_x": null,
            "overflow_y": null,
            "padding": null,
            "right": null,
            "top": null,
            "visibility": null,
            "width": null
          }
        },
        "36eee8bba80649d1ab05ec2765309b4f": {
          "model_module": "@jupyter-widgets/base",
          "model_name": "LayoutModel",
          "model_module_version": "1.2.0",
          "state": {
            "_model_module": "@jupyter-widgets/base",
            "_model_module_version": "1.2.0",
            "_model_name": "LayoutModel",
            "_view_count": null,
            "_view_module": "@jupyter-widgets/base",
            "_view_module_version": "1.2.0",
            "_view_name": "LayoutView",
            "align_content": null,
            "align_items": null,
            "align_self": null,
            "border": null,
            "bottom": null,
            "display": null,
            "flex": null,
            "flex_flow": null,
            "grid_area": null,
            "grid_auto_columns": null,
            "grid_auto_flow": null,
            "grid_auto_rows": null,
            "grid_column": null,
            "grid_gap": null,
            "grid_row": null,
            "grid_template_areas": null,
            "grid_template_columns": null,
            "grid_template_rows": null,
            "height": null,
            "justify_content": null,
            "justify_items": null,
            "left": null,
            "margin": null,
            "max_height": null,
            "max_width": null,
            "min_height": null,
            "min_width": null,
            "object_fit": null,
            "object_position": null,
            "order": null,
            "overflow": null,
            "overflow_x": null,
            "overflow_y": null,
            "padding": null,
            "right": null,
            "top": null,
            "visibility": null,
            "width": null
          }
        },
        "16e85cab20bc41cb9851fbc67f7a3f25": {
          "model_module": "@jupyter-widgets/controls",
          "model_name": "TabModel",
          "model_module_version": "1.5.0",
          "state": {
            "_dom_classes": [],
            "_model_module": "@jupyter-widgets/controls",
            "_model_module_version": "1.5.0",
            "_model_name": "TabModel",
            "_titles": {
              "0": "Youtube",
              "1": "Bilibili"
            },
            "_view_count": null,
            "_view_module": "@jupyter-widgets/controls",
            "_view_module_version": "1.5.0",
            "_view_name": "TabView",
            "box_style": "",
            "children": [
              "IPY_MODEL_c6f324544d01499c865aade72ff754c1",
              "IPY_MODEL_159909cc089c4979b5b08bf38accd075"
            ],
            "layout": "IPY_MODEL_76157c349fb24f2caa65313c8a0d0859",
            "selected_index": 0
          }
        },
        "c6f324544d01499c865aade72ff754c1": {
          "model_module": "@jupyter-widgets/output",
          "model_name": "OutputModel",
          "model_module_version": "1.0.0",
          "state": {
            "_dom_classes": [],
            "_model_module": "@jupyter-widgets/output",
            "_model_module_version": "1.0.0",
            "_model_name": "OutputModel",
            "_view_count": null,
            "_view_module": "@jupyter-widgets/output",
            "_view_module_version": "1.0.0",
            "_view_name": "OutputView",
            "layout": "IPY_MODEL_74f3a8ba0e944231b4f108d0ce35894a",
            "msg_id": "",
            "outputs": [
              {
                "output_type": "stream",
                "name": "stdout",
                "text": [
                  "Video available at https://youtube.com/watch?v=jcTq2PgU5Vw\n"
                ]
              },
              {
                "output_type": "display_data",
                "data": {
                  "text/plain": "<IPython.lib.display.YouTubeVideo at 0x7f2031170390>",
                  "text/html": "\n        <iframe\n            width=\"854\"\n            height=\"480\"\n            src=\"https://www.youtube.com/embed/jcTq2PgU5Vw?fs=1&rel=0\"\n            frameborder=\"0\"\n            allowfullscreen\n        ></iframe>\n        ",
                  "image/jpeg": "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\n"
                },
                "metadata": {}
              }
            ]
          }
        },
        "159909cc089c4979b5b08bf38accd075": {
          "model_module": "@jupyter-widgets/output",
          "model_name": "OutputModel",
          "model_module_version": "1.0.0",
          "state": {
            "_dom_classes": [],
            "_model_module": "@jupyter-widgets/output",
            "_model_module_version": "1.0.0",
            "_model_name": "OutputModel",
            "_view_count": null,
            "_view_module": "@jupyter-widgets/output",
            "_view_module_version": "1.0.0",
            "_view_name": "OutputView",
            "layout": "IPY_MODEL_865f91682bc34b80b66e54efa0d1e071",
            "msg_id": "",
            "outputs": [
              {
                "output_type": "stream",
                "name": "stdout",
                "text": [
                  "Video available at https://www.bilibili.com/video/BV1xz4y1D7ES\n"
                ]
              },
              {
                "output_type": "display_data",
                "data": {
                  "text/plain": "<__main__.BiliVideo at 0x7f2031170190>",
                  "text/html": "\n        <iframe\n            width=\"854\"\n            height=\"480\"\n            src=\"https://player.bilibili.com/player.html?bvid=BV1xz4y1D7ES&page=1?fs=1\"\n            frameborder=\"0\"\n            allowfullscreen\n        ></iframe>\n        "
                },
                "metadata": {}
              }
            ]
          }
        },
        "76157c349fb24f2caa65313c8a0d0859": {
          "model_module": "@jupyter-widgets/base",
          "model_name": "LayoutModel",
          "model_module_version": "1.2.0",
          "state": {
            "_model_module": "@jupyter-widgets/base",
            "_model_module_version": "1.2.0",
            "_model_name": "LayoutModel",
            "_view_count": null,
            "_view_module": "@jupyter-widgets/base",
            "_view_module_version": "1.2.0",
            "_view_name": "LayoutView",
            "align_content": null,
            "align_items": null,
            "align_self": null,
            "border": null,
            "bottom": null,
            "display": null,
            "flex": null,
            "flex_flow": null,
            "grid_area": null,
            "grid_auto_columns": null,
            "grid_auto_flow": null,
            "grid_auto_rows": null,
            "grid_column": null,
            "grid_gap": null,
            "grid_row": null,
            "grid_template_areas": null,
            "grid_template_columns": null,
            "grid_template_rows": null,
            "height": null,
            "justify_content": null,
            "justify_items": null,
            "left": null,
            "margin": null,
            "max_height": null,
            "max_width": null,
            "min_height": null,
            "min_width": null,
            "object_fit": null,
            "object_position": null,
            "order": null,
            "overflow": null,
            "overflow_x": null,
            "overflow_y": null,
            "padding": null,
            "right": null,
            "top": null,
            "visibility": null,
            "width": null
          }
        },
        "74f3a8ba0e944231b4f108d0ce35894a": {
          "model_module": "@jupyter-widgets/base",
          "model_name": "LayoutModel",
          "model_module_version": "1.2.0",
          "state": {
            "_model_module": "@jupyter-widgets/base",
            "_model_module_version": "1.2.0",
            "_model_name": "LayoutModel",
            "_view_count": null,
            "_view_module": "@jupyter-widgets/base",
            "_view_module_version": "1.2.0",
            "_view_name": "LayoutView",
            "align_content": null,
            "align_items": null,
            "align_self": null,
            "border": null,
            "bottom": null,
            "display": null,
            "flex": null,
            "flex_flow": null,
            "grid_area": null,
            "grid_auto_columns": null,
            "grid_auto_flow": null,
            "grid_auto_rows": null,
            "grid_column": null,
            "grid_gap": null,
            "grid_row": null,
            "grid_template_areas": null,
            "grid_template_columns": null,
            "grid_template_rows": null,
            "height": null,
            "justify_content": null,
            "justify_items": null,
            "left": null,
            "margin": null,
            "max_height": null,
            "max_width": null,
            "min_height": null,
            "min_width": null,
            "object_fit": null,
            "object_position": null,
            "order": null,
            "overflow": null,
            "overflow_x": null,
            "overflow_y": null,
            "padding": null,
            "right": null,
            "top": null,
            "visibility": null,
            "width": null
          }
        },
        "865f91682bc34b80b66e54efa0d1e071": {
          "model_module": "@jupyter-widgets/base",
          "model_name": "LayoutModel",
          "model_module_version": "1.2.0",
          "state": {
            "_model_module": "@jupyter-widgets/base",
            "_model_module_version": "1.2.0",
            "_model_name": "LayoutModel",
            "_view_count": null,
            "_view_module": "@jupyter-widgets/base",
            "_view_module_version": "1.2.0",
            "_view_name": "LayoutView",
            "align_content": null,
            "align_items": null,
            "align_self": null,
            "border": null,
            "bottom": null,
            "display": null,
            "flex": null,
            "flex_flow": null,
            "grid_area": null,
            "grid_auto_columns": null,
            "grid_auto_flow": null,
            "grid_auto_rows": null,
            "grid_column": null,
            "grid_gap": null,
            "grid_row": null,
            "grid_template_areas": null,
            "grid_template_columns": null,
            "grid_template_rows": null,
            "height": null,
            "justify_content": null,
            "justify_items": null,
            "left": null,
            "margin": null,
            "max_height": null,
            "max_width": null,
            "min_height": null,
            "min_width": null,
            "object_fit": null,
            "object_position": null,
            "order": null,
            "overflow": null,
            "overflow_x": null,
            "overflow_y": null,
            "padding": null,
            "right": null,
            "top": null,
            "visibility": null,
            "width": null
          }
        },
        "39ab5f10215446bfb997e312c4b9b4fc": {
          "model_module": "@jupyter-widgets/controls",
          "model_name": "VBoxModel",
          "model_module_version": "1.5.0",
          "state": {
            "_dom_classes": [
              "widget-interact"
            ],
            "_model_module": "@jupyter-widgets/controls",
            "_model_module_version": "1.5.0",
            "_model_name": "VBoxModel",
            "_view_count": null,
            "_view_module": "@jupyter-widgets/controls",
            "_view_module_version": "1.5.0",
            "_view_name": "VBoxView",
            "box_style": "",
            "children": [
              "IPY_MODEL_7e6defd846ff43bc85cf799ff42078f8",
              "IPY_MODEL_e30f10d481ca43638ce0048954cabf97"
            ],
            "layout": "IPY_MODEL_18e069dab317416ba1386c30d3fe3683"
          }
        },
        "7e6defd846ff43bc85cf799ff42078f8": {
          "model_module": "@jupyter-widgets/controls",
          "model_name": "FloatSliderModel",
          "model_module_version": "1.5.0",
          "state": {
            "_dom_classes": [],
            "_model_module": "@jupyter-widgets/controls",
            "_model_module_version": "1.5.0",
            "_model_name": "FloatSliderModel",
            "_view_count": null,
            "_view_module": "@jupyter-widgets/controls",
            "_view_module_version": "1.5.0",
            "_view_name": "FloatSliderView",
            "continuous_update": true,
            "description": "corr_coef",
            "description_tooltip": null,
            "disabled": false,
            "layout": "IPY_MODEL_1a38cc2d8fd94854b10cf432f1a79bc2",
            "max": 1,
            "min": -1,
            "orientation": "horizontal",
            "readout": true,
            "readout_format": ".2f",
            "step": 0.1,
            "style": "IPY_MODEL_a20836616f114ea8894719783b762502",
            "value": -0.2
          }
        },
        "e30f10d481ca43638ce0048954cabf97": {
          "model_module": "@jupyter-widgets/output",
          "model_name": "OutputModel",
          "model_module_version": "1.0.0",
          "state": {
            "_dom_classes": [],
            "_model_module": "@jupyter-widgets/output",
            "_model_module_version": "1.0.0",
            "_model_name": "OutputModel",
            "_view_count": null,
            "_view_module": "@jupyter-widgets/output",
            "_view_module_version": "1.0.0",
            "_view_name": "OutputView",
            "layout": "IPY_MODEL_aca822f90f564c148a6335d7e34c863c",
            "msg_id": "",
            "outputs": [
              {
                "output_type": "display_data",
                "data": {
                  "text/plain": "<Figure size 576x288 with 3 Axes>",
                  "image/png": "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\n"
                },
                "metadata": {
                  "image/png": {
                    "width": 558,
                    "height": 269
                  },
                  "needs_background": "light"
                }
              }
            ]
          }
        },
        "18e069dab317416ba1386c30d3fe3683": {
          "model_module": "@jupyter-widgets/base",
          "model_name": "LayoutModel",
          "model_module_version": "1.2.0",
          "state": {
            "_model_module": "@jupyter-widgets/base",
            "_model_module_version": "1.2.0",
            "_model_name": "LayoutModel",
            "_view_count": null,
            "_view_module": "@jupyter-widgets/base",
            "_view_module_version": "1.2.0",
            "_view_name": "LayoutView",
            "align_content": null,
            "align_items": null,
            "align_self": null,
            "border": null,
            "bottom": null,
            "display": null,
            "flex": null,
            "flex_flow": null,
            "grid_area": null,
            "grid_auto_columns": null,
            "grid_auto_flow": null,
            "grid_auto_rows": null,
            "grid_column": null,
            "grid_gap": null,
            "grid_row": null,
            "grid_template_areas": null,
            "grid_template_columns": null,
            "grid_template_rows": null,
            "height": null,
            "justify_content": null,
            "justify_items": null,
            "left": null,
            "margin": null,
            "max_height": null,
            "max_width": null,
            "min_height": null,
            "min_width": null,
            "object_fit": null,
            "object_position": null,
            "order": null,
            "overflow": null,
            "overflow_x": null,
            "overflow_y": null,
            "padding": null,
            "right": null,
            "top": null,
            "visibility": null,
            "width": null
          }
        },
        "1a38cc2d8fd94854b10cf432f1a79bc2": {
          "model_module": "@jupyter-widgets/base",
          "model_name": "LayoutModel",
          "model_module_version": "1.2.0",
          "state": {
            "_model_module": "@jupyter-widgets/base",
            "_model_module_version": "1.2.0",
            "_model_name": "LayoutModel",
            "_view_count": null,
            "_view_module": "@jupyter-widgets/base",
            "_view_module_version": "1.2.0",
            "_view_name": "LayoutView",
            "align_content": null,
            "align_items": null,
            "align_self": null,
            "border": null,
            "bottom": null,
            "display": null,
            "flex": null,
            "flex_flow": null,
            "grid_area": null,
            "grid_auto_columns": null,
            "grid_auto_flow": null,
            "grid_auto_rows": null,
            "grid_column": null,
            "grid_gap": null,
            "grid_row": null,
            "grid_template_areas": null,
            "grid_template_columns": null,
            "grid_template_rows": null,
            "height": null,
            "justify_content": null,
            "justify_items": null,
            "left": null,
            "margin": null,
            "max_height": null,
            "max_width": null,
            "min_height": null,
            "min_width": null,
            "object_fit": null,
            "object_position": null,
            "order": null,
            "overflow": null,
            "overflow_x": null,
            "overflow_y": null,
            "padding": null,
            "right": null,
            "top": null,
            "visibility": null,
            "width": null
          }
        },
        "a20836616f114ea8894719783b762502": {
          "model_module": "@jupyter-widgets/controls",
          "model_name": "SliderStyleModel",
          "model_module_version": "1.5.0",
          "state": {
            "_model_module": "@jupyter-widgets/controls",
            "_model_module_version": "1.5.0",
            "_model_name": "SliderStyleModel",
            "_view_count": null,
            "_view_module": "@jupyter-widgets/base",
            "_view_module_version": "1.2.0",
            "_view_name": "StyleView",
            "description_width": "",
            "handle_color": null
          }
        },
        "aca822f90f564c148a6335d7e34c863c": {
          "model_module": "@jupyter-widgets/base",
          "model_name": "LayoutModel",
          "model_module_version": "1.2.0",
          "state": {
            "_model_module": "@jupyter-widgets/base",
            "_model_module_version": "1.2.0",
            "_model_name": "LayoutModel",
            "_view_count": null,
            "_view_module": "@jupyter-widgets/base",
            "_view_module_version": "1.2.0",
            "_view_name": "LayoutView",
            "align_content": null,
            "align_items": null,
            "align_self": null,
            "border": null,
            "bottom": null,
            "display": null,
            "flex": null,
            "flex_flow": null,
            "grid_area": null,
            "grid_auto_columns": null,
            "grid_auto_flow": null,
            "grid_auto_rows": null,
            "grid_column": null,
            "grid_gap": null,
            "grid_row": null,
            "grid_template_areas": null,
            "grid_template_columns": null,
            "grid_template_rows": null,
            "height": null,
            "justify_content": null,
            "justify_items": null,
            "left": null,
            "margin": null,
            "max_height": null,
            "max_width": null,
            "min_height": null,
            "min_width": null,
            "object_fit": null,
            "object_position": null,
            "order": null,
            "overflow": null,
            "overflow_x": null,
            "overflow_y": null,
            "padding": null,
            "right": null,
            "top": null,
            "visibility": null,
            "width": null
          }
        },
        "238fd2c222dd4a7c917a56ca50988316": {
          "model_module": "@jupyter-widgets/controls",
          "model_name": "TabModel",
          "model_module_version": "1.5.0",
          "state": {
            "_dom_classes": [],
            "_model_module": "@jupyter-widgets/controls",
            "_model_module_version": "1.5.0",
            "_model_name": "TabModel",
            "_titles": {
              "0": "Youtube",
              "1": "Bilibili"
            },
            "_view_count": null,
            "_view_module": "@jupyter-widgets/controls",
            "_view_module_version": "1.5.0",
            "_view_name": "TabView",
            "box_style": "",
            "children": [
              "IPY_MODEL_6360c05666c2457f8a63919982c1feff",
              "IPY_MODEL_f92d997555d34173b645e86800710ebb"
            ],
            "layout": "IPY_MODEL_2508b8cf97984b87afe4a7de25c5f371",
            "selected_index": 0
          }
        },
        "6360c05666c2457f8a63919982c1feff": {
          "model_module": "@jupyter-widgets/output",
          "model_name": "OutputModel",
          "model_module_version": "1.0.0",
          "state": {
            "_dom_classes": [],
            "_model_module": "@jupyter-widgets/output",
            "_model_module_version": "1.0.0",
            "_model_name": "OutputModel",
            "_view_count": null,
            "_view_module": "@jupyter-widgets/output",
            "_view_module_version": "1.0.0",
            "_view_name": "OutputView",
            "layout": "IPY_MODEL_ac2b15862fc14381b3a1793d974f6627",
            "msg_id": "",
            "outputs": [
              {
                "output_type": "stream",
                "name": "stdout",
                "text": [
                  "Video available at https://youtube.com/watch?v=PC1RZELnrIg\n"
                ]
              },
              {
                "output_type": "display_data",
                "data": {
                  "text/plain": "<IPython.lib.display.YouTubeVideo at 0x7f2024f298d0>",
                  "text/html": "\n        <iframe\n            width=\"854\"\n            height=\"480\"\n            src=\"https://www.youtube.com/embed/PC1RZELnrIg?fs=1&rel=0\"\n            frameborder=\"0\"\n            allowfullscreen\n        ></iframe>\n        ",
                  "image/jpeg": "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\n"
                },
                "metadata": {}
              }
            ]
          }
        },
        "f92d997555d34173b645e86800710ebb": {
          "model_module": "@jupyter-widgets/output",
          "model_name": "OutputModel",
          "model_module_version": "1.0.0",
          "state": {
            "_dom_classes": [],
            "_model_module": "@jupyter-widgets/output",
            "_model_module_version": "1.0.0",
            "_model_name": "OutputModel",
            "_view_count": null,
            "_view_module": "@jupyter-widgets/output",
            "_view_module_version": "1.0.0",
            "_view_name": "OutputView",
            "layout": "IPY_MODEL_a7ee58218c13433fbf3f9a2b109440cd",
            "msg_id": "",
            "outputs": [
              {
                "output_type": "stream",
                "name": "stdout",
                "text": [
                  "Video available at https://www.bilibili.com/video/BV1wT4y1E71g\n"
                ]
              },
              {
                "output_type": "display_data",
                "data": {
                  "text/plain": "<__main__.BiliVideo at 0x7f2024ee0f50>",
                  "text/html": "\n        <iframe\n            width=\"854\"\n            height=\"480\"\n            src=\"https://player.bilibili.com/player.html?bvid=BV1wT4y1E71g&page=1?fs=1\"\n            frameborder=\"0\"\n            allowfullscreen\n        ></iframe>\n        "
                },
                "metadata": {}
              }
            ]
          }
        },
        "2508b8cf97984b87afe4a7de25c5f371": {
          "model_module": "@jupyter-widgets/base",
          "model_name": "LayoutModel",
          "model_module_version": "1.2.0",
          "state": {
            "_model_module": "@jupyter-widgets/base",
            "_model_module_version": "1.2.0",
            "_model_name": "LayoutModel",
            "_view_count": null,
            "_view_module": "@jupyter-widgets/base",
            "_view_module_version": "1.2.0",
            "_view_name": "LayoutView",
            "align_content": null,
            "align_items": null,
            "align_self": null,
            "border": null,
            "bottom": null,
            "display": null,
            "flex": null,
            "flex_flow": null,
            "grid_area": null,
            "grid_auto_columns": null,
            "grid_auto_flow": null,
            "grid_auto_rows": null,
            "grid_column": null,
            "grid_gap": null,
            "grid_row": null,
            "grid_template_areas": null,
            "grid_template_columns": null,
            "grid_template_rows": null,
            "height": null,
            "justify_content": null,
            "justify_items": null,
            "left": null,
            "margin": null,
            "max_height": null,
            "max_width": null,
            "min_height": null,
            "min_width": null,
            "object_fit": null,
            "object_position": null,
            "order": null,
            "overflow": null,
            "overflow_x": null,
            "overflow_y": null,
            "padding": null,
            "right": null,
            "top": null,
            "visibility": null,
            "width": null
          }
        },
        "ac2b15862fc14381b3a1793d974f6627": {
          "model_module": "@jupyter-widgets/base",
          "model_name": "LayoutModel",
          "model_module_version": "1.2.0",
          "state": {
            "_model_module": "@jupyter-widgets/base",
            "_model_module_version": "1.2.0",
            "_model_name": "LayoutModel",
            "_view_count": null,
            "_view_module": "@jupyter-widgets/base",
            "_view_module_version": "1.2.0",
            "_view_name": "LayoutView",
            "align_content": null,
            "align_items": null,
            "align_self": null,
            "border": null,
            "bottom": null,
            "display": null,
            "flex": null,
            "flex_flow": null,
            "grid_area": null,
            "grid_auto_columns": null,
            "grid_auto_flow": null,
            "grid_auto_rows": null,
            "grid_column": null,
            "grid_gap": null,
            "grid_row": null,
            "grid_template_areas": null,
            "grid_template_columns": null,
            "grid_template_rows": null,
            "height": null,
            "justify_content": null,
            "justify_items": null,
            "left": null,
            "margin": null,
            "max_height": null,
            "max_width": null,
            "min_height": null,
            "min_width": null,
            "object_fit": null,
            "object_position": null,
            "order": null,
            "overflow": null,
            "overflow_x": null,
            "overflow_y": null,
            "padding": null,
            "right": null,
            "top": null,
            "visibility": null,
            "width": null
          }
        },
        "a7ee58218c13433fbf3f9a2b109440cd": {
          "model_module": "@jupyter-widgets/base",
          "model_name": "LayoutModel",
          "model_module_version": "1.2.0",
          "state": {
            "_model_module": "@jupyter-widgets/base",
            "_model_module_version": "1.2.0",
            "_model_name": "LayoutModel",
            "_view_count": null,
            "_view_module": "@jupyter-widgets/base",
            "_view_module_version": "1.2.0",
            "_view_name": "LayoutView",
            "align_content": null,
            "align_items": null,
            "align_self": null,
            "border": null,
            "bottom": null,
            "display": null,
            "flex": null,
            "flex_flow": null,
            "grid_area": null,
            "grid_auto_columns": null,
            "grid_auto_flow": null,
            "grid_auto_rows": null,
            "grid_column": null,
            "grid_gap": null,
            "grid_row": null,
            "grid_template_areas": null,
            "grid_template_columns": null,
            "grid_template_rows": null,
            "height": null,
            "justify_content": null,
            "justify_items": null,
            "left": null,
            "margin": null,
            "max_height": null,
            "max_width": null,
            "min_height": null,
            "min_width": null,
            "object_fit": null,
            "object_position": null,
            "order": null,
            "overflow": null,
            "overflow_x": null,
            "overflow_y": null,
            "padding": null,
            "right": null,
            "top": null,
            "visibility": null,
            "width": null
          }
        }
      }
    }
  },
  "nbformat": 4,
  "nbformat_minor": 0
}